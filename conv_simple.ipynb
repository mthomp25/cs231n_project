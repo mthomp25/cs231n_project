{
 "cells": [
  {
   "cell_type": "markdown",
   "metadata": {},
   "source": [
    "Simple conv net"
   ]
  },
  {
   "cell_type": "code",
   "execution_count": 1,
   "metadata": {},
   "outputs": [
    {
     "name": "stderr",
     "output_type": "stream",
     "text": [
      "/usr/local/lib/python3.5/dist-packages/h5py/__init__.py:36: FutureWarning: Conversion of the second argument of issubdtype from `float` to `np.floating` is deprecated. In future, it will be treated as `np.float64 == np.dtype(float).type`.\n",
      "  from ._conv import register_converters as _register_converters\n"
     ]
    }
   ],
   "source": [
    "import numpy as np\n",
    "import tensorflow as tf\n",
    "import time\n",
    "from tensorflow.python.keras.applications.inception_v3 import InceptionV3, preprocess_input\n",
    "from tensorflow.python.keras.preprocessing.image import ImageDataGenerator\n",
    "from tensorflow.python.keras.layers import Input, Dense, Flatten, Dropout, BatchNormalization, Activation, Conv2D, MaxPooling2D\n",
    "from tensorflow.python.keras.models import Model, Sequential, load_model\n",
    "from tensorflow.python.keras import regularizers"
   ]
  },
  {
   "cell_type": "code",
   "execution_count": 2,
   "metadata": {},
   "outputs": [],
   "source": [
    "def conv2d_bn(x,filters,num_row,num_col,padding='same',strides=(1, 1)):\n",
    "    x = Conv2D(filters, (num_row, num_col),strides=strides,padding=padding,use_bias=False)(x)\n",
    "    x = BatchNormalization()(x)\n",
    "    x = Activation('relu')(x)\n",
    "    return x"
   ]
  },
  {
   "cell_type": "code",
   "execution_count": 3,
   "metadata": {},
   "outputs": [],
   "source": [
    "# setup parameters\n",
    "num_classes = 8\n",
    "classes = ['Airbus320', 'Airbus380', 'Boeing737', 'Boeing747', 'Boeing757', 'Boeing777', 'Boeing787', 'ERJ190']\n",
    "target_size = (232, 348)\n",
    "datapath_train = '../dataset3/train'\n",
    "datapath_val = '../dataset3/val'\n",
    "\n",
    "# hyper-parameters\n",
    "lam = .005\n",
    "batch_size = 64\n",
    "lr = 1e-3\n",
    "beta_1 = 0.9\n",
    "beta_2 = 0.999\n",
    "fcnum = 0\n",
    "layer_cut = -1"
   ]
  },
  {
   "cell_type": "code",
   "execution_count": 4,
   "metadata": {},
   "outputs": [
    {
     "name": "stdout",
     "output_type": "stream",
     "text": [
      "_________________________________________________________________\n",
      "Layer (type)                 Output Shape              Param #   \n",
      "=================================================================\n",
      "input_1 (InputLayer)         (None, 232, 348, 3)       0         \n",
      "_________________________________________________________________\n",
      "conv2d_1 (Conv2D)            (None, 228, 344, 32)      2432      \n",
      "_________________________________________________________________\n",
      "activation_1 (Activation)    (None, 228, 344, 32)      0         \n",
      "_________________________________________________________________\n",
      "dropout_1 (Dropout)          (None, 228, 344, 32)      0         \n",
      "_________________________________________________________________\n",
      "max_pooling2d_1 (MaxPooling2 (None, 114, 172, 32)      0         \n",
      "_________________________________________________________________\n",
      "conv2d_2 (Conv2D)            (None, 110, 168, 64)      51264     \n",
      "_________________________________________________________________\n",
      "activation_2 (Activation)    (None, 110, 168, 64)      0         \n",
      "_________________________________________________________________\n",
      "dropout_2 (Dropout)          (None, 110, 168, 64)      0         \n",
      "_________________________________________________________________\n",
      "max_pooling2d_2 (MaxPooling2 (None, 55, 84, 64)        0         \n",
      "_________________________________________________________________\n",
      "flatten_1 (Flatten)          (None, 295680)            0         \n",
      "_________________________________________________________________\n",
      "dropout_3 (Dropout)          (None, 295680)            0         \n",
      "_________________________________________________________________\n",
      "dense_1 (Dense)              (None, 1000)              295681000 \n",
      "_________________________________________________________________\n",
      "dense_2 (Dense)              (None, 8)                 8008      \n",
      "=================================================================\n",
      "Total params: 295,742,704\n",
      "Trainable params: 295,742,704\n",
      "Non-trainable params: 0\n",
      "_________________________________________________________________\n"
     ]
    }
   ],
   "source": [
    "inputs = Input(shape=(*target_size,3))\n",
    "x = Conv2D(32, kernel_size=(5, 5), strides=(1, 1))(inputs)\n",
    "#x = BatchNormalization()(x)\n",
    "x = Activation(tf.nn.relu)(x)\n",
    "x = Dropout(.5)(x)\n",
    "x = MaxPooling2D(pool_size=(2, 2), strides=(2, 2))(x)\n",
    "x = Conv2D(64, (5, 5))(x)\n",
    "x = Activation(tf.nn.relu)(x)\n",
    "x = Dropout(.5)(x)\n",
    "x = MaxPooling2D(pool_size=(2, 2))(x)\n",
    "x = Flatten()(x)\n",
    "x = Dropout(.5)(x)\n",
    "x = Dense(1000, activation='relu')(x)\n",
    "outputs = Dense(num_classes, activation='softmax')(x)\n",
    "\n",
    "\n",
    "#inputs = Input(shape=(*target_size,3))\n",
    "#x = conv2d_bn(inputs, 32, 4,4, strides=(2, 2), padding='valid')\n",
    "#x = MaxPooling2D((2, 2), strides=(1, 1))(x)\n",
    "\n",
    "#x = conv2d_bn(x, 64, 3,3, strides=(2, 2), padding='valid')\n",
    "#x = MaxPooling2D((3, 3), strides=(1, 1))(x)\n",
    "\n",
    "#x = conv2d_bn(x, 128, 4,4, strides=(2, 2), padding='valid')\n",
    "#x = MaxPooling2D((2, 2), strides=(2, 2))(x)\n",
    "\n",
    "#x = Flatten()(x)\n",
    "#outputs = Dense(num_classes, activation='softmax', kernel_initializer='glorot_normal', bias_initializer='zeros')(x)\n",
    "\n",
    "model = Model(inputs, outputs)\n",
    "model.summary()"
   ]
  },
  {
   "cell_type": "code",
   "execution_count": 5,
   "metadata": {},
   "outputs": [
    {
     "name": "stdout",
     "output_type": "stream",
     "text": [
      "Found 22096 images belonging to 8 classes.\n",
      "Found 1030 images belonging to 8 classes.\n"
     ]
    }
   ],
   "source": [
    "train_datagen = ImageDataGenerator(\n",
    "    rescale = 1./147, #preprocessing_function=preprocess_input_new,\n",
    "    samplewise_center=True,\n",
    "    rotation_range=0.0,\n",
    "    horizontal_flip=False)\n",
    "\n",
    "val_datagen = ImageDataGenerator(rescale = 1./147, samplewise_center=True) #preprocessing_function=preprocess_input\n",
    "\n",
    "train_gen = train_datagen.flow_from_directory(\n",
    "    datapath_train, \n",
    "    target_size=target_size, \n",
    "    batch_size=batch_size, \n",
    "    classes=classes,\n",
    "    class_mode='categorical',\n",
    "    shuffle=True)\n",
    "\n",
    "val_gen = val_datagen.flow_from_directory(\n",
    "    datapath_val, \n",
    "    target_size=target_size, \n",
    "    batch_size=batch_size, \n",
    "    classes=classes,\n",
    "    class_mode='categorical',\n",
    "    shuffle=True)"
   ]
  },
  {
   "cell_type": "code",
   "execution_count": 6,
   "metadata": {},
   "outputs": [],
   "source": [
    "#set optimizer and loss \n",
    "opt = tf.keras.optimizers.SGD(lr=.01) #Adam(lr=1e-4, beta_1=beta_1, beta_2=beta_2)\n",
    "loss = 'categorical_crossentropy'\n",
    "\n",
    "#compile model\n",
    "model.compile(optimizer=opt, loss=loss, metrics=['accuracy'])"
   ]
  },
  {
   "cell_type": "code",
   "execution_count": 7,
   "metadata": {},
   "outputs": [
    {
     "name": "stdout",
     "output_type": "stream",
     "text": [
      "Epoch 1/10\n",
      "346/346 [==============================] - 262s 757ms/step - loss: 2.0012 - acc: 0.2179 - val_loss: 1.9822 - val_acc: 0.2621\n",
      "Epoch 2/10\n",
      "346/346 [==============================] - 255s 736ms/step - loss: 1.7971 - acc: 0.3307 - val_loss: 1.8664 - val_acc: 0.3612\n",
      "Epoch 3/10\n",
      "346/346 [==============================] - 255s 736ms/step - loss: 1.5759 - acc: 0.4325 - val_loss: 1.7890 - val_acc: 0.4058\n",
      "Epoch 4/10\n",
      "346/346 [==============================] - 254s 735ms/step - loss: 1.3030 - acc: 0.5421 - val_loss: 1.7085 - val_acc: 0.3845\n",
      "Epoch 5/10\n",
      "346/346 [==============================] - 254s 734ms/step - loss: 1.0071 - acc: 0.6522 - val_loss: 1.5974 - val_acc: 0.4777\n",
      "Epoch 6/10\n",
      "346/346 [==============================] - 254s 735ms/step - loss: 0.6951 - acc: 0.7636 - val_loss: 1.5118 - val_acc: 0.4864\n",
      "Epoch 7/10\n",
      "346/346 [==============================] - 255s 737ms/step - loss: 0.4090 - acc: 0.8663 - val_loss: 1.4725 - val_acc: 0.4786\n",
      "Epoch 8/10\n",
      "346/346 [==============================] - 254s 734ms/step - loss: 0.2208 - acc: 0.9317 - val_loss: 1.4464 - val_acc: 0.4951\n",
      "Epoch 9/10\n",
      "346/346 [==============================] - 254s 734ms/step - loss: 0.1346 - acc: 0.9606 - val_loss: 1.4132 - val_acc: 0.5117\n",
      "Epoch 10/10\n",
      "346/346 [==============================] - 255s 736ms/step - loss: 0.0931 - acc: 0.9736 - val_loss: 1.4127 - val_acc: 0.5078\n"
     ]
    }
   ],
   "source": [
    "#train model\n",
    "epochs = 10\n",
    "history = model.fit_generator(\n",
    "        train_gen,\n",
    "        epochs=epochs,\n",
    "        validation_data=val_gen)"
   ]
  },
  {
   "cell_type": "code",
   "execution_count": 8,
   "metadata": {},
   "outputs": [],
   "source": [
    "model.save('simple_conv1.h5')"
   ]
  },
  {
   "cell_type": "code",
   "execution_count": null,
   "metadata": {},
   "outputs": [],
   "source": [
    "for i, lay in enumerate(model.layers):\n",
    "    print(i, lay.name, lay.output_shape, lay.trainable)\n",
    "    if 'mixed' in lay.name:\n",
    "        print()"
   ]
  },
  {
   "cell_type": "code",
   "execution_count": 9,
   "metadata": {},
   "outputs": [
    {
     "data": {
      "image/png": "[encoded data removed]",
      "text/plain": [
       "<Figure size 432x288 with 1 Axes>"
      ]
     },
     "metadata": {},
     "output_type": "display_data"
    }
   ],
   "source": [
    "import matplotlib.pyplot as plt\n",
    "%matplotlib inline\n",
    "\n",
    "#acc = np.array([0.2325, 0.3411, 0.4399, 0.5494, 0.6736, 0.8194, 0.9236, 0.9703, 0.9865, 0.9840])\n",
    "#val_acc = np.array([0.3299, 0.3715, 0.4323, 0.4479, 0.4323, 0.4670, 0.4601, 0.4896, 0.4740])\n",
    "\n",
    "plt.plot(history.history['acc'])\n",
    "plt.plot(history.history['val_acc'])\n",
    "plt.title('model accuracy')\n",
    "plt.ylabel('accuracy')\n",
    "plt.xlabel('epoch')\n",
    "plt.legend(['train', 'validation'], loc='upper left')\n",
    "plt.show()"
   ]
  },
  {
   "cell_type": "code",
   "execution_count": 10,
   "metadata": {},
   "outputs": [
    {
     "name": "stdout",
     "output_type": "stream",
     "text": [
      "Found 576 images belonging to 8 classes.\n"
     ]
    },
    {
     "data": {
      "text/plain": [
       "[1.3646965291765, 0.5034722222222222]"
      ]
     },
     "execution_count": 10,
     "metadata": {},
     "output_type": "execute_result"
    }
   ],
   "source": [
    "test_gen = val_datagen.flow_from_directory(\n",
    "    '../dataset3/test', \n",
    "    target_size=target_size, \n",
    "    batch_size=batch_size, \n",
    "    classes=classes,\n",
    "    class_mode='categorical',\n",
    "    shuffle=True)\n",
    "\n",
    "model.evaluate_generator(test_gen)"
   ]
  },
  {
   "cell_type": "code",
   "execution_count": null,
   "metadata": {},
   "outputs": [],
   "source": []
  }
 ],
 "metadata": {
  "kernelspec": {
   "display_name": "Python 3",
   "language": "python",
   "name": "python3"
  },
  "language_info": {
   "codemirror_mode": {
    "name": "ipython",
    "version": 3
   },
   "file_extension": ".py",
   "mimetype": "text/x-python",
   "name": "python",
   "nbconvert_exporter": "python",
   "pygments_lexer": "ipython3",
   "version": "3.5.2"
  }
 },
 "nbformat": 4,
 "nbformat_minor": 2
}
