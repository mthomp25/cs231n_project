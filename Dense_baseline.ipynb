{
 "cells": [
  {
   "cell_type": "markdown",
   "metadata": {},
   "source": [
    "Code testing 2, simple convolution"
   ]
  },
  {
   "cell_type": "code",
   "execution_count": 1,
   "metadata": {},
   "outputs": [
    {
     "name": "stderr",
     "output_type": "stream",
     "text": [
      "/usr/local/lib/python3.5/dist-packages/h5py/__init__.py:36: FutureWarning: Conversion of the second argument of issubdtype from `float` to `np.floating` is deprecated. In future, it will be treated as `np.float64 == np.dtype(float).type`.\n",
      "  from ._conv import register_converters as _register_converters\n"
     ]
    }
   ],
   "source": [
    "import numpy as np\n",
    "import tensorflow as tf\n",
    "import time\n",
    "from tensorflow.python.keras.applications.inception_v3 import InceptionV3, preprocess_input\n",
    "from tensorflow.python.keras.preprocessing.image import ImageDataGenerator\n",
    "from tensorflow.python.keras.layers import Input, Dense, Flatten, Dropout, BatchNormalization, Activation\n",
    "from tensorflow.python.keras.models import Model, Sequential\n",
    "from tensorflow.python.keras import regularizers"
   ]
  },
  {
   "cell_type": "code",
   "execution_count": 32,
   "metadata": {},
   "outputs": [],
   "source": [
    "# setup parameters\n",
    "num_classes = 8\n",
    "classes = ['Airbus320', 'Airbus380', 'Boeing737', 'Boeing747', 'Boeing757', 'Boeing777', 'Boeing787', 'ERJ190']\n",
    "target_size = (100,150)\n",
    "datapath_train = '../dataset2/train'\n",
    "datapath_val = '../dataset2/val'\n",
    "\n",
    "# hyper-parameters\n",
    "lam = .01\n",
    "batch_size = 64\n",
    "lr = 1e-3\n",
    "beta_1 = 0.9\n",
    "beta_2 = 0.999\n",
    "fcnum = 0\n",
    "layer_cut = -1"
   ]
  },
  {
   "cell_type": "code",
   "execution_count": 33,
   "metadata": {},
   "outputs": [],
   "source": [
    "# build model\n",
    "inputs = Input(shape=(*target_size,3))\n",
    "x = Flatten()(inputs)\n",
    "\n",
    "x = Dense(200, kernel_initializer='glorot_normal', bias_initializer='zeros', kernel_regularizer=regularizers.l2(lam))(x)\n",
    "x = BatchNormalization()(x)\n",
    "x = Activation('relu')(x)\n",
    "x = Dropout(.5)(x)\n",
    "x = Dense(100, kernel_initializer='glorot_normal', bias_initializer='zeros', kernel_regularizer=regularizers.l2(lam))(x)\n",
    "x = BatchNormalization()(x)\n",
    "x = Activation('relu')(x)\n",
    "x = Dropout(.5)(x)\n",
    "outputs = Dense(num_classes, activation='softmax', kernel_initializer='glorot_normal', bias_initializer='zeros', kernel_regularizer=regularizers.l2(lam))(x)\n",
    "\n",
    "model = Model(inputs, outputs)"
   ]
  },
  {
   "cell_type": "code",
   "execution_count": 34,
   "metadata": {},
   "outputs": [
    {
     "name": "stdout",
     "output_type": "stream",
     "text": [
      "Found 1000 images belonging to 8 classes.\n",
      "Found 599 images belonging to 8 classes.\n"
     ]
    }
   ],
   "source": [
    "train_datagen = ImageDataGenerator(\n",
    "    rescale = 1./147, #preprocessing_function=preprocess_input_new,\n",
    "    samplewise_center=True,\n",
    "    rotation_range=0.0,\n",
    "    horizontal_flip=False)\n",
    "\n",
    "val_datagen = ImageDataGenerator(rescale = 1./147, samplewise_center=True) #preprocessing_function=preprocess_input\n",
    "\n",
    "train_gen = train_datagen.flow_from_directory(\n",
    "    datapath_train, \n",
    "    target_size=target_size, \n",
    "    batch_size=batch_size, \n",
    "    classes=classes,\n",
    "    class_mode='categorical',\n",
    "    shuffle=True)\n",
    "\n",
    "val_gen = val_datagen.flow_from_directory(\n",
    "    datapath_val, \n",
    "    target_size=target_size, \n",
    "    batch_size=batch_size, \n",
    "    classes=classes,\n",
    "    class_mode='categorical',\n",
    "    shuffle=True)"
   ]
  },
  {
   "cell_type": "code",
   "execution_count": 35,
   "metadata": {},
   "outputs": [],
   "source": [
    "#set optimizer and loss \n",
    "opt = tf.keras.optimizers.Adam(lr=lr, beta_1=beta_1, beta_2=beta_2)\n",
    "loss = 'categorical_crossentropy'\n",
    "\n",
    "#compile model\n",
    "model.compile(optimizer=opt, loss=loss, metrics=['accuracy'])"
   ]
  },
  {
   "cell_type": "code",
   "execution_count": 36,
   "metadata": {},
   "outputs": [
    {
     "name": "stdout",
     "output_type": "stream",
     "text": [
      "Epoch 1/10\n",
      "16/16 [==============================] - 5s 291ms/step - loss: 7.3471 - acc: 0.1345 - val_loss: 8.4617 - val_acc: 0.1319\n",
      "Epoch 2/10\n",
      "16/16 [==============================] - 3s 175ms/step - loss: 7.0773 - acc: 0.1804 - val_loss: 6.4531 - val_acc: 0.1669\n",
      "Epoch 3/10\n",
      "16/16 [==============================] - 3s 192ms/step - loss: 5.6903 - acc: 0.2310 - val_loss: 5.1047 - val_acc: 0.1703\n",
      "Epoch 4/10\n",
      "16/16 [==============================] - 3s 177ms/step - loss: 4.6716 - acc: 0.2292 - val_loss: 4.3749 - val_acc: 0.1937\n",
      "Epoch 5/10\n",
      "16/16 [==============================] - 3s 176ms/step - loss: 4.1281 - acc: 0.2446 - val_loss: 4.0519 - val_acc: 0.1686\n",
      "Epoch 6/10\n",
      "16/16 [==============================] - 3s 186ms/step - loss: 3.8467 - acc: 0.2788 - val_loss: 3.9233 - val_acc: 0.1669\n",
      "Epoch 7/10\n",
      "16/16 [==============================] - 3s 198ms/step - loss: 3.7106 - acc: 0.2801 - val_loss: 3.8113 - val_acc: 0.1653\n",
      "Epoch 8/10\n",
      "16/16 [==============================] - 3s 170ms/step - loss: 3.5335 - acc: 0.3055 - val_loss: 3.7049 - val_acc: 0.1686\n",
      "Epoch 9/10\n",
      "16/16 [==============================] - 3s 183ms/step - loss: 3.5000 - acc: 0.2971 - val_loss: 3.6545 - val_acc: 0.1686\n",
      "Epoch 10/10\n",
      "16/16 [==============================] - 3s 168ms/step - loss: 3.4144 - acc: 0.3303 - val_loss: 3.6049 - val_acc: 0.1937\n"
     ]
    }
   ],
   "source": [
    "#train model\n",
    "epochs = 10\n",
    "history = model.fit_generator(\n",
    "        train_gen,\n",
    "        epochs=epochs,\n",
    "        validation_data=val_gen)"
   ]
  },
  {
   "cell_type": "code",
   "execution_count": 20,
   "metadata": {},
   "outputs": [
    {
     "data": {
      "image/png": "[encoded data removed]",
      "text/plain": [
       "<Figure size 432x288 with 1 Axes>"
      ]
     },
     "metadata": {},
     "output_type": "display_data"
    }
   ],
   "source": [
    "import matplotlib.pyplot as plt\n",
    "%matplotlib inline\n",
    "\n",
    "plt.plot(history.history['acc'])\n",
    "plt.plot(history.history['val_acc'])\n",
    "plt.title('model accuracy')\n",
    "plt.ylabel('accuracy')\n",
    "plt.xlabel('epoch')\n",
    "plt.legend(['train', 'validation'], loc='upper left')\n",
    "plt.show()"
   ]
  },
  {
   "cell_type": "code",
   "execution_count": null,
   "metadata": {},
   "outputs": [],
   "source": [
    "for i, lay in enumerate(model.layers):\n",
    "    print(i, lay.name, lay.output_shape, lay.trainable)\n",
    "    if 'mixed' in lay.name:\n",
    "        print()"
   ]
  },
  {
   "cell_type": "code",
   "execution_count": 4,
   "metadata": {},
   "outputs": [
    {
     "name": "stdout",
     "output_type": "stream",
     "text": [
      "_________________________________________________________________\n",
      "Layer (type)                 Output Shape              Param #   \n",
      "=================================================================\n",
      "input_1 (InputLayer)         (None, 100, 150, 3)       0         \n",
      "_________________________________________________________________\n",
      "flatten_1 (Flatten)          (None, 45000)             0         \n",
      "_________________________________________________________________\n",
      "dense_1 (Dense)              (None, 200)               9000200   \n",
      "_________________________________________________________________\n",
      "batch_normalization_1 (Batch (None, 200)               800       \n",
      "_________________________________________________________________\n",
      "activation_1 (Activation)    (None, 200)               0         \n",
      "_________________________________________________________________\n",
      "dropout_1 (Dropout)          (None, 200)               0         \n",
      "_________________________________________________________________\n",
      "dense_2 (Dense)              (None, 100)               20100     \n",
      "_________________________________________________________________\n",
      "batch_normalization_2 (Batch (None, 100)               400       \n",
      "_________________________________________________________________\n",
      "activation_2 (Activation)    (None, 100)               0         \n",
      "_________________________________________________________________\n",
      "dropout_2 (Dropout)          (None, 100)               0         \n",
      "_________________________________________________________________\n",
      "dense_3 (Dense)              (None, 8)                 808       \n",
      "=================================================================\n",
      "Total params: 9,022,308\n",
      "Trainable params: 9,021,708\n",
      "Non-trainable params: 600\n",
      "_________________________________________________________________\n"
     ]
    }
   ],
   "source": [
    "model.summary()"
   ]
  },
  {
   "cell_type": "code",
   "execution_count": 37,
   "metadata": {},
   "outputs": [
    {
     "name": "stdout",
     "output_type": "stream",
     "text": [
      "Found 599 images belonging to 8 classes.\n"
     ]
    },
    {
     "data": {
      "text/plain": [
       "[3.604876079623011, 0.19365609361353223]"
      ]
     },
     "execution_count": 37,
     "metadata": {},
     "output_type": "execute_result"
    }
   ],
   "source": [
    "test_gen = val_datagen.flow_from_directory(\n",
    "    '../dataset2/test', \n",
    "    target_size=target_size, \n",
    "    batch_size=batch_size, \n",
    "    classes=classes,\n",
    "    class_mode='categorical',\n",
    "    shuffle=True)\n",
    "\n",
    "model.evaluate_generator(test_gen)"
   ]
  },
  {
   "cell_type": "code",
   "execution_count": null,
   "metadata": {},
   "outputs": [],
   "source": []
  }
 ],
 "metadata": {
  "kernelspec": {
   "display_name": "Python 3",
   "language": "python",
   "name": "python3"
  },
  "language_info": {
   "codemirror_mode": {
    "name": "ipython",
    "version": 3
   },
   "file_extension": ".py",
   "mimetype": "text/x-python",
   "name": "python",
   "nbconvert_exporter": "python",
   "pygments_lexer": "ipython3",
   "version": "3.5.2"
  }
 },
 "nbformat": 4,
 "nbformat_minor": 2
}
